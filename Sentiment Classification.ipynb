{
 "cells": [
  {
   "cell_type": "code",
   "execution_count": 1,
   "id": "7d5611a0",
   "metadata": {},
   "outputs": [],
   "source": [
    "import pandas as pd \n",
    "import numpy as np\n",
    "import matplotlib.pyplot as plt\n",
    "import seaborn as sns\n",
    "\n",
    "from sklearn.model_selection import train_test_split\n",
    "from sklearn.feature_extraction.text import CountVectorizer\n",
    "from sklearn.feature_extraction.text import TfidfTransformer\n",
    "from sklearn.feature_extraction.text import TfidfVectorizer\n",
    "from sklearn.pipeline import Pipeline\n",
    "\n",
    "from sklearn.naive_bayes import MultinomialNB\n",
    "from sklearn.linear_model import SGDClassifier\n",
    "from sklearn.svm import SVC\n",
    "from sklearn.model_selection import GridSearchCV\n",
    "\n",
    "from sklearn.metrics import accuracy_score\n",
    "from sklearn.metrics import confusion_matrix\n",
    "from sklearn.metrics import f1_score\n",
    "from sklearn.model_selection import cross_val_score\n"
   ]
  },
  {
   "cell_type": "markdown",
   "id": "41dc296e",
   "metadata": {},
   "source": [
    "## Observe the dataset"
   ]
  },
  {
   "cell_type": "code",
   "execution_count": 2,
   "id": "26b62779",
   "metadata": {
    "scrolled": true
   },
   "outputs": [
    {
     "data": {
      "text/html": [
       "<div>\n",
       "<style scoped>\n",
       "    .dataframe tbody tr th:only-of-type {\n",
       "        vertical-align: middle;\n",
       "    }\n",
       "\n",
       "    .dataframe tbody tr th {\n",
       "        vertical-align: top;\n",
       "    }\n",
       "\n",
       "    .dataframe thead th {\n",
       "        text-align: right;\n",
       "    }\n",
       "</style>\n",
       "<table border=\"1\" class=\"dataframe\">\n",
       "  <thead>\n",
       "    <tr style=\"text-align: right;\">\n",
       "      <th></th>\n",
       "      <th>Name</th>\n",
       "      <th>RatingValue</th>\n",
       "      <th>DatePublished</th>\n",
       "      <th>Review</th>\n",
       "    </tr>\n",
       "  </thead>\n",
       "  <tbody>\n",
       "    <tr>\n",
       "      <th>0</th>\n",
       "      <td>Playa Cabana</td>\n",
       "      <td>4</td>\n",
       "      <td>2020-02-26</td>\n",
       "      <td>I was tasked with finding a spot for a group d...</td>\n",
       "    </tr>\n",
       "    <tr>\n",
       "      <th>1</th>\n",
       "      <td>Playa Cabana</td>\n",
       "      <td>3</td>\n",
       "      <td>2019-08-04</td>\n",
       "      <td>Went here with my friends and family. I liked ...</td>\n",
       "    </tr>\n",
       "    <tr>\n",
       "      <th>2</th>\n",
       "      <td>Playa Cabana</td>\n",
       "      <td>3</td>\n",
       "      <td>2019-08-24</td>\n",
       "      <td>Surprisingly good Flautas! They came as 3 roll...</td>\n",
       "    </tr>\n",
       "    <tr>\n",
       "      <th>3</th>\n",
       "      <td>Playa Cabana</td>\n",
       "      <td>4</td>\n",
       "      <td>2019-06-06</td>\n",
       "      <td>As a Mexican I always crave authentic Mexican ...</td>\n",
       "    </tr>\n",
       "    <tr>\n",
       "      <th>4</th>\n",
       "      <td>Playa Cabana</td>\n",
       "      <td>5</td>\n",
       "      <td>2020-05-25</td>\n",
       "      <td>Best tacos I've ever had. Both locations are g...</td>\n",
       "    </tr>\n",
       "    <tr>\n",
       "      <th>...</th>\n",
       "      <td>...</td>\n",
       "      <td>...</td>\n",
       "      <td>...</td>\n",
       "      <td>...</td>\n",
       "    </tr>\n",
       "    <tr>\n",
       "      <th>1915</th>\n",
       "      <td>Greedy Duck &amp; Noodles</td>\n",
       "      <td>2</td>\n",
       "      <td>2019-04-29</td>\n",
       "      <td>Maybe I didn't know what to expect but the win...</td>\n",
       "    </tr>\n",
       "    <tr>\n",
       "      <th>1916</th>\n",
       "      <td>Greedy Duck &amp; Noodles</td>\n",
       "      <td>5</td>\n",
       "      <td>2019-08-15</td>\n",
       "      <td>This is a casual family run restaurant. It's h...</td>\n",
       "    </tr>\n",
       "    <tr>\n",
       "      <th>1917</th>\n",
       "      <td>Greedy Duck &amp; Noodles</td>\n",
       "      <td>5</td>\n",
       "      <td>2019-03-16</td>\n",
       "      <td>Very tasty and unique flavours. This has becom...</td>\n",
       "    </tr>\n",
       "    <tr>\n",
       "      <th>1918</th>\n",
       "      <td>Greedy Duck &amp; Noodles</td>\n",
       "      <td>4</td>\n",
       "      <td>2019-10-12</td>\n",
       "      <td>The dry noodles are pretty good, super strong ...</td>\n",
       "    </tr>\n",
       "    <tr>\n",
       "      <th>1919</th>\n",
       "      <td>Greedy Duck &amp; Noodles</td>\n",
       "      <td>5</td>\n",
       "      <td>2018-09-07</td>\n",
       "      <td>This is hands down the best noodle place in To...</td>\n",
       "    </tr>\n",
       "  </tbody>\n",
       "</table>\n",
       "<p>1920 rows × 4 columns</p>\n",
       "</div>"
      ],
      "text/plain": [
       "                       Name  RatingValue DatePublished  \\\n",
       "0              Playa Cabana            4    2020-02-26   \n",
       "1              Playa Cabana            3    2019-08-04   \n",
       "2              Playa Cabana            3    2019-08-24   \n",
       "3              Playa Cabana            4    2019-06-06   \n",
       "4              Playa Cabana            5    2020-05-25   \n",
       "...                     ...          ...           ...   \n",
       "1915  Greedy Duck & Noodles            2    2019-04-29   \n",
       "1916  Greedy Duck & Noodles            5    2019-08-15   \n",
       "1917  Greedy Duck & Noodles            5    2019-03-16   \n",
       "1918  Greedy Duck & Noodles            4    2019-10-12   \n",
       "1919  Greedy Duck & Noodles            5    2018-09-07   \n",
       "\n",
       "                                                 Review  \n",
       "0     I was tasked with finding a spot for a group d...  \n",
       "1     Went here with my friends and family. I liked ...  \n",
       "2     Surprisingly good Flautas! They came as 3 roll...  \n",
       "3     As a Mexican I always crave authentic Mexican ...  \n",
       "4     Best tacos I've ever had. Both locations are g...  \n",
       "...                                                 ...  \n",
       "1915  Maybe I didn't know what to expect but the win...  \n",
       "1916  This is a casual family run restaurant. It's h...  \n",
       "1917  Very tasty and unique flavours. This has becom...  \n",
       "1918  The dry noodles are pretty good, super strong ...  \n",
       "1919  This is hands down the best noodle place in To...  \n",
       "\n",
       "[1920 rows x 4 columns]"
      ]
     },
     "execution_count": 2,
     "metadata": {},
     "output_type": "execute_result"
    }
   ],
   "source": [
    "df = pd.read_csv('reviews.csv', sep= '\\t')\n",
    "df"
   ]
  },
  {
   "cell_type": "markdown",
   "id": "3c96525d",
   "metadata": {},
   "source": [
    "## Transform RatingValue\n"
   ]
  },
  {
   "cell_type": "code",
   "execution_count": 3,
   "id": "bf8b2036",
   "metadata": {},
   "outputs": [
    {
     "name": "stdout",
     "output_type": "stream",
     "text": [
      "                       Name  RatingValue DatePublished  \\\n",
      "0              Playa Cabana            4    2020-02-26   \n",
      "1              Playa Cabana            3    2019-08-04   \n",
      "2              Playa Cabana            3    2019-08-24   \n",
      "3              Playa Cabana            4    2019-06-06   \n",
      "4              Playa Cabana            5    2020-05-25   \n",
      "...                     ...          ...           ...   \n",
      "1915  Greedy Duck & Noodles            2    2019-04-29   \n",
      "1916  Greedy Duck & Noodles            5    2019-08-15   \n",
      "1917  Greedy Duck & Noodles            5    2019-03-16   \n",
      "1918  Greedy Duck & Noodles            4    2019-10-12   \n",
      "1919  Greedy Duck & Noodles            5    2018-09-07   \n",
      "\n",
      "                                                 Review  Sentiment  \n",
      "0     I was tasked with finding a spot for a group d...          2  \n",
      "1     Went here with my friends and family. I liked ...          1  \n",
      "2     Surprisingly good Flautas! They came as 3 roll...          1  \n",
      "3     As a Mexican I always crave authentic Mexican ...          2  \n",
      "4     Best tacos I've ever had. Both locations are g...          2  \n",
      "...                                                 ...        ...  \n",
      "1915  Maybe I didn't know what to expect but the win...          0  \n",
      "1916  This is a casual family run restaurant. It's h...          2  \n",
      "1917  Very tasty and unique flavours. This has becom...          2  \n",
      "1918  The dry noodles are pretty good, super strong ...          2  \n",
      "1919  This is hands down the best noodle place in To...          2  \n",
      "\n",
      "[1920 rows x 5 columns]\n"
     ]
    }
   ],
   "source": [
    "def get_sentiment(value):\n",
    "    if value in [1, 2]:\n",
    "        return 0\n",
    "    elif value == 3:\n",
    "        return 1\n",
    "    elif value in [4, 5]:\n",
    "        return 2\n",
    "\n",
    "df['Sentiment'] = df['RatingValue'].apply(get_sentiment)\n",
    "print(df)"
   ]
  },
  {
   "cell_type": "markdown",
   "id": "d7ea7693",
   "metadata": {},
   "source": [
    "## Plot Sentiment Distribution"
   ]
  },
  {
   "cell_type": "code",
   "execution_count": 4,
   "id": "5cc1ac17",
   "metadata": {},
   "outputs": [
    {
     "name": "stderr",
     "output_type": "stream",
     "text": [
      "/Users/hungchichen/opt/anaconda3/lib/python3.9/site-packages/seaborn/_decorators.py:36: FutureWarning: Pass the following variable as a keyword arg: x. From version 0.12, the only valid positional argument will be `data`, and passing other arguments without an explicit keyword will result in an error or misinterpretation.\n",
      "  warnings.warn(\n"
     ]
    },
    {
     "data": {
      "image/png": "[encoded data removed]",
      "text/plain": [
       "<Figure size 432x288 with 1 Axes>"
      ]
     },
     "metadata": {
      "needs_background": "light"
     },
     "output_type": "display_data"
    }
   ],
   "source": [
    "ax= sns.countplot('Sentiment', data= df)\n",
    "ax.bar_label(container= ax.containers[0],labels=df['Sentiment'].value_counts(ascending=True))\n",
    "plt.show()\n"
   ]
  },
  {
   "cell_type": "markdown",
   "id": "58cad5ab",
   "metadata": {},
   "source": [
    "## Preprocessing df_processing_2"
   ]
  },
  {
   "cell_type": "code",
   "execution_count": 5,
   "id": "406006c5",
   "metadata": {},
   "outputs": [
    {
     "name": "stderr",
     "output_type": "stream",
     "text": [
      "/Users/hungchichen/opt/anaconda3/lib/python3.9/site-packages/pandas/core/frame.py:4906: SettingWithCopyWarning: \n",
      "A value is trying to be set on a copy of a slice from a DataFrame\n",
      "\n",
      "See the caveats in the documentation: https://pandas.pydata.org/pandas-docs/stable/user_guide/indexing.html#returning-a-view-versus-a-copy\n",
      "  return super().drop(\n"
     ]
    }
   ],
   "source": [
    "# Drop Sentiment data that is equal to 2 to make the data more balanced\n",
    "df_processing_2 = df[df[\"Sentiment\"] == 2]\n",
    "df_processing_2.reset_index(drop=True, inplace=True)\n",
    "df = df[df[\"Sentiment\"] != 2]\n",
    "df_processing_2.drop(index=range(0, 1000), inplace=True)\n",
    "df = pd.concat([df, df_processing_2], axis=0)\n",
    "df = df.sample(frac=1).reset_index(drop=True)"
   ]
  },
  {
   "cell_type": "code",
   "execution_count": 6,
   "id": "674dd883",
   "metadata": {},
   "outputs": [
    {
     "data": {
      "text/plain": [
       "(920, 2)"
      ]
     },
     "execution_count": 6,
     "metadata": {},
     "output_type": "execute_result"
    }
   ],
   "source": [
    "df= df[['Review','Sentiment']]\n",
    "df.shape"
   ]
  },
  {
   "cell_type": "code",
   "execution_count": 7,
   "id": "ce87d14c",
   "metadata": {},
   "outputs": [],
   "source": [
    "# Split the dataframe to train and valid\n",
    "train, valid=train_test_split(df, test_size=0.2, random_state= 0)\n",
    "train.to_csv('train.csv')\n",
    "valid.to_csv('valid.csv')"
   ]
  },
  {
   "cell_type": "code",
   "execution_count": 8,
   "id": "c188af63",
   "metadata": {},
   "outputs": [
    {
     "name": "stdout",
     "output_type": "stream",
     "text": [
      "(736, 2)\n",
      "(184, 2)\n"
     ]
    }
   ],
   "source": [
    "train_csv= pd.read_csv('train.csv',index_col=0)\n",
    "valid_csv= pd.read_csv('valid.csv',index_col=0)\n",
    "print(train_csv.shape)\n",
    "print(valid_csv.shape)\n"
   ]
  },
  {
   "cell_type": "markdown",
   "id": "0168f444",
   "metadata": {},
   "source": [
    "## Assign train and valid sets"
   ]
  },
  {
   "cell_type": "code",
   "execution_count": 9,
   "id": "12e5e03c",
   "metadata": {},
   "outputs": [
    {
     "name": "stdout",
     "output_type": "stream",
     "text": [
      "2    374\n",
      "1    240\n",
      "0    122\n",
      "Name: Sentiment, dtype: int64\n"
     ]
    }
   ],
   "source": [
    "X_train = train_csv['Review']\n",
    "y_train = train_csv['Sentiment']\n",
    "X_valid = valid_csv['Review']\n",
    "y_valid = valid_csv['Sentiment']\n",
    "\n",
    "print(y_train.value_counts())"
   ]
  },
  {
   "cell_type": "markdown",
   "id": "c804e69d",
   "metadata": {},
   "source": [
    "## CountVectorizer"
   ]
  },
  {
   "cell_type": "code",
   "execution_count": 10,
   "id": "6ce48383",
   "metadata": {},
   "outputs": [],
   "source": [
    "count_vect = CountVectorizer(stop_words= 'english')\n",
    "X_train_counts = count_vect.fit_transform(X_train.values)\n",
    "X_test_counts= count_vect.transform(X_valid.values)"
   ]
  },
  {
   "cell_type": "markdown",
   "id": "2d858d7f",
   "metadata": {},
   "source": [
    "## TF-IDF\n"
   ]
  },
  {
   "cell_type": "code",
   "execution_count": 11,
   "id": "13caa137",
   "metadata": {
    "scrolled": true
   },
   "outputs": [],
   "source": [
    "tfidf_transformer = TfidfTransformer()\n",
    "X_train_tfidf = tfidf_transformer.fit_transform(X_train_counts)\n",
    "X_test_tfidf = tfidf_transformer.transform(X_test_counts)"
   ]
  },
  {
   "cell_type": "markdown",
   "id": "7c12baa1",
   "metadata": {},
   "source": [
    "## MultinomialNB\n"
   ]
  },
  {
   "cell_type": "code",
   "execution_count": 12,
   "id": "a54bb74e",
   "metadata": {},
   "outputs": [
    {
     "name": "stdout",
     "output_type": "stream",
     "text": [
      "accuracy_score 0.5652173913043478\n",
      "f1_score 0.3480589022757697\n",
      "             negative(a)  neutral(a)  positive(a)\n",
      "negative(p)            0          13           23\n",
      "neutral(p)             0          13           44\n",
      "positive(p)            0           0           91\n"
     ]
    }
   ],
   "source": [
    "MNB = MultinomialNB().fit(X_train_tfidf, y_train)\n",
    "MNB_pred = MNB.predict(X_test_tfidf)\n",
    "print('accuracy_score', accuracy_score(y_valid, MNB_pred))\n",
    "print('f1_score', f1_score(y_valid, MNB_pred, average= 'macro'))\n",
    "print(pd.DataFrame(confusion_matrix(y_valid, MNB_pred), index=['negative(p)', 'neutral(p)' ,'positive(p)'], columns=['negative(a)', 'neutral(a)' ,'positive(a)']))"
   ]
  },
  {
   "cell_type": "markdown",
   "id": "43597c1f",
   "metadata": {},
   "source": [
    "## Build MNB Pipeline\n"
   ]
  },
  {
   "cell_type": "code",
   "execution_count": 13,
   "id": "078767c4",
   "metadata": {},
   "outputs": [],
   "source": [
    "text_clf = Pipeline([\n",
    "    ('vect', CountVectorizer()),\n",
    "    ('tfidf', TfidfTransformer()),\n",
    "    ('clf', MultinomialNB()),\n",
    "])"
   ]
  },
  {
   "cell_type": "markdown",
   "id": "8b2bc4c4",
   "metadata": {},
   "source": [
    "## Hyper-Peram Tuning\n"
   ]
  },
  {
   "cell_type": "code",
   "execution_count": 14,
   "id": "c59839e8",
   "metadata": {},
   "outputs": [
    {
     "name": "stdout",
     "output_type": "stream",
     "text": [
      "best_params {'clf__alpha': 0.01, 'clf__fit_prior': False, 'tfidf__use_idf': False, 'vect__min_df': 0, 'vect__ngram_range': (1, 1)}\n",
      "best_score 0.7377367163081449\n"
     ]
    }
   ],
   "source": [
    "parameters = {\n",
    "    'vect__ngram_range': [(1, 1),(1, 2), (1, 3)],\n",
    "    'vect__min_df': [0,1],\n",
    "    'tfidf__use_idf': (True, False),\n",
    "    'clf__alpha': (0.01, 0.001, 0.1),\n",
    "    'clf__fit_prior': (True, False),\n",
    "}\n",
    "\n",
    "\n",
    "\n",
    "gs_clf = GridSearchCV(text_clf, parameters, cv=5, n_jobs=-1)\n",
    "gs_clf = gs_clf.fit(X_train, y_train)\n",
    "gs_clf_pred =gs_clf.predict(X_valid)\n",
    "print('best_params', gs_clf.best_params_)\n",
    "print('best_score', gs_clf.best_score_)\n",
    "\n",
    "# print(accuracy_score(y_valid, gs_clf_pred))\n",
    "# print(confusion_matrix(y_valid, gs_clf_pred))"
   ]
  },
  {
   "cell_type": "markdown",
   "id": "c8223d38",
   "metadata": {},
   "source": [
    "## Adjusting Hyper Perameters"
   ]
  },
  {
   "cell_type": "code",
   "execution_count": 15,
   "id": "7b6c8edd",
   "metadata": {},
   "outputs": [
    {
     "name": "stdout",
     "output_type": "stream",
     "text": [
      "accuracy_score 0.6956521739130435\n",
      "f1_score 0.6445237058535276\n",
      "             negative(a)  neutral(a)  positive(a)\n",
      "negative(p)           16          17            3\n",
      "neutral(p)             6          33           18\n",
      "positive(p)            0          12           79\n"
     ]
    }
   ],
   "source": [
    "# count_vect = CountVectorizer(stop_words= 'english',min_df=0, ngram_range= (1,1) )\n",
    "# X_train_counts = count_vect.fit_transform(X_train.values)\n",
    "# X_test_counts= count_vect.transform(X_valid.values)\n",
    "\n",
    "# tfidf_transformer = TfidfTransformer(use_idf=False)\n",
    "# X_train_tfidf = tfidf_transformer.fit_transform(X_train_counts)\n",
    "# X_test_tfidf = tfidf_transformer.transform(X_test_counts)\n",
    "\n",
    "# MNB = MultinomialNB(alpha= 0.01, fit_prior=False ).fit(X_train_tfidf, y_train)\n",
    "# MNB_pred = MNB.predict(X_test_tfidf)\n",
    "\n",
    "text_clf = Pipeline([\n",
    "    ('vect', CountVectorizer(stop_words= 'english',min_df=0, ngram_range= (1,1))),\n",
    "    ('tfidf', TfidfTransformer(use_idf=False)),\n",
    "    ('clf', MultinomialNB(alpha= 0.01, fit_prior=False)),\n",
    "])\n",
    "\n",
    "text_clf.fit(X_train, y_train)\n",
    "MNB_pipeline_pred= text_clf.predict(X_valid)\n",
    "\n",
    "print('accuracy_score', accuracy_score(y_valid, MNB_pipeline_pred))\n",
    "print('f1_score', f1_score(y_valid, MNB_pipeline_pred, average= 'macro'))\n",
    "print(pd.DataFrame(confusion_matrix(y_valid, MNB_pipeline_pred), index=['negative(p)', 'neutral(p)' ,'positive(p)'], columns=['negative(a)', 'neutral(a)' ,'positive(a)']))\n",
    "\n",
    "\n"
   ]
  },
  {
   "cell_type": "markdown",
   "id": "e36beb7b",
   "metadata": {},
   "source": [
    "## Print MNB Results\n"
   ]
  },
  {
   "cell_type": "code",
   "execution_count": 16,
   "id": "11b79a06",
   "metadata": {
    "scrolled": true
   },
   "outputs": [
    {
     "name": "stdout",
     "output_type": "stream",
     "text": [
      "Accuracy 0.6956521739130435\n",
      "Average F1 score 0.6445237058535276\n",
      "Class-wise F1 scores:\n",
      "\tnegative: 0.5517241379310345\n",
      "\tneutral: 0.5546218487394958\n",
      "\tpositive: 0.8272251308900523\n",
      "Confusion_matrix:\n",
      "               negative(a)  neutral(a)  positive(a)\n",
      "negative(p)     0.086957    0.092391     0.016304\n",
      "neutral(p)      0.032609    0.179348     0.097826\n",
      "positive(p)     0.000000    0.065217     0.429348\n"
     ]
    }
   ],
   "source": [
    "print(\"Accuracy\", accuracy_score(y_valid, MNB_pipeline_pred))\n",
    "print(\"Average F1 score\", f1_score(y_valid, MNB_pipeline_pred, average=\"macro\"))\n",
    "print(\"Class-wise F1 scores:\")\n",
    "print(\"\\tnegative:\", f1_score(y_valid, MNB_pipeline_pred, average=None)[0])\n",
    "print(\"\\tneutral:\", f1_score(y_valid, MNB_pipeline_pred, average=None)[1])\n",
    "print(\"\\tpositive:\", f1_score(y_valid, MNB_pipeline_pred, average=None)[2])\n",
    "print(\n",
    "    \"Confusion_matrix:\\n \",\n",
    "    pd.DataFrame(\n",
    "        confusion_matrix(y_valid, MNB_pipeline_pred)\n",
    "        / confusion_matrix(y_valid, MNB_pipeline_pred).astype(float).sum(),\n",
    "        index=['negative(p)', 'neutral(p)' ,'positive(p)'],\n",
    "        columns=['negative(a)', 'neutral(a)' ,'positive(a)'],\n",
    "    ),\n",
    ")"
   ]
  },
  {
   "cell_type": "markdown",
   "id": "3c5d4ce8",
   "metadata": {},
   "source": [
    "## CountVectorizer"
   ]
  },
  {
   "cell_type": "code",
   "execution_count": 17,
   "id": "3b44c87e",
   "metadata": {},
   "outputs": [],
   "source": [
    "count_vect = CountVectorizer(stop_words= 'english')\n",
    "X_train_counts = count_vect.fit_transform(X_train.values)\n",
    "X_test_counts= count_vect.transform(X_valid.values)"
   ]
  },
  {
   "cell_type": "markdown",
   "id": "1c242d90",
   "metadata": {},
   "source": [
    "## TF-IDF\n"
   ]
  },
  {
   "cell_type": "code",
   "execution_count": 18,
   "id": "1f793d18",
   "metadata": {
    "scrolled": true
   },
   "outputs": [],
   "source": [
    "tfidf_transformer = TfidfTransformer()\n",
    "X_train_tfidf = tfidf_transformer.fit_transform(X_train_counts)\n",
    "X_test_tfidf = tfidf_transformer.transform(X_test_counts)"
   ]
  },
  {
   "cell_type": "markdown",
   "id": "e3b82232",
   "metadata": {},
   "source": [
    "## SGD\n"
   ]
  },
  {
   "cell_type": "code",
   "execution_count": 19,
   "id": "c0862e26",
   "metadata": {
    "scrolled": true
   },
   "outputs": [
    {
     "name": "stdout",
     "output_type": "stream",
     "text": [
      "accuracy_score 0.6847826086956522\n",
      "Average F1 score 0.635857329067425\n",
      "             negative(a)  neutral(a)  positive(a)\n",
      "negative(p)           16          14            6\n",
      "neutral(p)             6          32           19\n",
      "positive(p)            0          13           78\n"
     ]
    }
   ],
   "source": [
    "SGD_clf = SGDClassifier().fit(X_train_tfidf, y_train)\n",
    "SGD_gs_clf_pred = SGD_clf.predict(X_test_tfidf)\n",
    "print('accuracy_score', accuracy_score(y_valid, SGD_gs_clf_pred))\n",
    "print('Average F1 score', f1_score(y_valid, SGD_gs_clf_pred, average= 'macro'))\n",
    "print(pd.DataFrame(confusion_matrix(y_valid, SGD_gs_clf_pred), index=['negative(p)', 'neutral(p)' ,'positive(p)'], columns=['negative(a)', 'neutral(a)' ,'positive(a)']))\n",
    "\n"
   ]
  },
  {
   "cell_type": "markdown",
   "id": "84caebd8",
   "metadata": {},
   "source": [
    "## Build SGD Pipeline\n"
   ]
  },
  {
   "cell_type": "code",
   "execution_count": 20,
   "id": "12b7e678",
   "metadata": {},
   "outputs": [],
   "source": [
    "text_clf = Pipeline([\n",
    "    ('vect', CountVectorizer(stop_words= 'english')),\n",
    "    ('tfidf', TfidfTransformer()),\n",
    "    ('clf', SGDClassifier()),\n",
    "])\n"
   ]
  },
  {
   "cell_type": "markdown",
   "id": "a535646d",
   "metadata": {},
   "source": [
    "## Hyper-Peram Tuning"
   ]
  },
  {
   "cell_type": "code",
   "execution_count": 21,
   "id": "61aa25e7",
   "metadata": {
    "scrolled": true
   },
   "outputs": [
    {
     "name": "stdout",
     "output_type": "stream",
     "text": [
      "best_params {'clf__alpha': 0.001, 'clf__loss': 'modified_huber', 'clf__penalty': 'l2', 'tfidf__use_idf': True, 'vect__min_df': 0, 'vect__ngram_range': (1, 2)}\n",
      "best_score 0.7174296745725317\n"
     ]
    }
   ],
   "source": [
    "parameters = {\n",
    "    'vect__ngram_range': [(1, 2)],\n",
    "    'vect__min_df': [0,1],\n",
    "    'tfidf__use_idf': (True, False),\n",
    "    'clf__alpha': (0.01, 0.001),\n",
    "    'clf__loss': ('hinge', 'modified_huber'), \n",
    "    'clf__penalty': ('l1', 'l2')\n",
    "}\n",
    "\n",
    "gs_clf = GridSearchCV(text_clf, parameters, cv=5, n_jobs=-1)\n",
    "gs_clf = gs_clf.fit(X_train, y_train)\n",
    "SGD_gs_clf_pred= gs_clf.predict(X_valid)\n",
    "print('best_params', gs_clf.best_params_)\n",
    "print('best_score', gs_clf.best_score_)\n"
   ]
  },
  {
   "cell_type": "markdown",
   "id": "7580f5ae",
   "metadata": {},
   "source": [
    "## Adjusting Hyper Perameters"
   ]
  },
  {
   "cell_type": "code",
   "execution_count": 22,
   "id": "87d2aa24",
   "metadata": {},
   "outputs": [
    {
     "name": "stdout",
     "output_type": "stream",
     "text": [
      "accuracy_score 0.7282608695652174\n",
      "f1_score 0.6452564102564102\n",
      "             negative(a)  neutral(a)  positive(a)\n",
      "negative(p)           12          18            6\n",
      "neutral(p)             2          33           22\n",
      "positive(p)            0           2           89\n"
     ]
    }
   ],
   "source": [
    "text_clf = Pipeline([\n",
    "    ('vect', CountVectorizer(stop_words= 'english',min_df=1, ngram_range= (1,2))),\n",
    "    ('tfidf', TfidfTransformer(use_idf=True)),\n",
    "    ('clf', SGDClassifier(alpha= 0.001, loss='hinge', penalty= 'l2'))\n",
    "])\n",
    "text_clf.fit(X_train, y_train)\n",
    "SGD_pipeline_pred= text_clf.predict(X_valid)\n",
    "\n",
    "print('accuracy_score', accuracy_score(y_valid, SGD_pipeline_pred))\n",
    "print('f1_score', f1_score(y_valid, SGD_pipeline_pred, average= 'macro'))\n",
    "print(pd.DataFrame(confusion_matrix(y_valid, SGD_pipeline_pred), index=['negative(p)', 'neutral(p)' ,'positive(p)'], columns=['negative(a)', 'neutral(a)' ,'positive(a)']))\n",
    "\n"
   ]
  },
  {
   "cell_type": "markdown",
   "id": "409e6428",
   "metadata": {},
   "source": [
    "## Print SGD Results\n"
   ]
  },
  {
   "cell_type": "code",
   "execution_count": 23,
   "id": "7eb5343f",
   "metadata": {},
   "outputs": [
    {
     "name": "stdout",
     "output_type": "stream",
     "text": [
      "Accuracy 0.7282608695652174\n",
      "Average F1 score 0.6452564102564102\n",
      "Class-wise F1 scores:\n",
      "\tnegative: 0.48\n",
      "\tneutral: 0.6\n",
      "\tpositive: 0.8557692307692306\n",
      "Confusion_matrix:\n",
      "               negative(a)  neutral(a)  positive(a)\n",
      "negative(p)     0.059783    0.103261     0.032609\n",
      "neutral(p)      0.010870    0.173913     0.125000\n",
      "positive(p)     0.000000    0.005435     0.489130\n"
     ]
    }
   ],
   "source": [
    "print(\"Accuracy\", accuracy_score(y_valid, SGD_pipeline_pred))\n",
    "print(\"Average F1 score\", f1_score(y_valid, SGD_pipeline_pred, average=\"macro\"))\n",
    "print(\"Class-wise F1 scores:\")\n",
    "print(\"\\tnegative:\", f1_score(y_valid, SGD_pipeline_pred, average=None)[0])\n",
    "print(\"\\tneutral:\", f1_score(y_valid, SGD_pipeline_pred, average=None)[1])\n",
    "print(\"\\tpositive:\", f1_score(y_valid, SGD_pipeline_pred, average=None)[2])\n",
    "print(\n",
    "    \"Confusion_matrix:\\n \",\n",
    "    pd.DataFrame(\n",
    "        confusion_matrix(y_valid, SGD_gs_clf_pred)\n",
    "        / confusion_matrix(y_valid, SGD_gs_clf_pred).astype(float).sum(),\n",
    "        index=['negative(p)', 'neutral(p)' ,'positive(p)'],\n",
    "        columns=['negative(a)', 'neutral(a)' ,'positive(a)'],\n",
    "    ),\n",
    ")"
   ]
  },
  {
   "cell_type": "markdown",
   "id": "3406f9a8",
   "metadata": {},
   "source": [
    "## SVC"
   ]
  },
  {
   "cell_type": "code",
   "execution_count": 24,
   "id": "8d8a71d4",
   "metadata": {},
   "outputs": [
    {
     "name": "stdout",
     "output_type": "stream",
     "text": [
      "accuracy 0.6521739130434783\n",
      "Average F1 score 0.4625451139212607\n",
      "             negative(a)  neutral(a)  positive(a)\n",
      "negative(p)            1          24           11\n",
      "neutral(p)             0          28           29\n",
      "positive(p)            0           0           91\n"
     ]
    }
   ],
   "source": [
    "svc = SVC().fit(X_train_tfidf, y_train)\n",
    "SVC_pred = svc.predict(X_test_tfidf)\n",
    "print('accuracy', accuracy_score(y_valid, SVC_pred))\n",
    "print('Average F1 score', f1_score(y_valid, SVC_pred, average= 'macro'))\n",
    "print(pd.DataFrame(confusion_matrix(y_valid, SVC_pred), index=['negative(p)', 'neutral(p)' ,'positive(p)'], columns=['negative(a)', 'neutral(a)' ,'positive(a)']))\n",
    "\n"
   ]
  },
  {
   "cell_type": "markdown",
   "id": "9c7fa96e",
   "metadata": {},
   "source": [
    "## Build SVC Pipeline\n"
   ]
  },
  {
   "cell_type": "code",
   "execution_count": 25,
   "id": "091789b1",
   "metadata": {},
   "outputs": [],
   "source": [
    "text_clf = Pipeline([\n",
    "    ('vect', CountVectorizer()),\n",
    "    ('tfidf', TfidfTransformer()),\n",
    "    ('clf', SVC())\n",
    "])\n"
   ]
  },
  {
   "cell_type": "markdown",
   "id": "5c7dea00",
   "metadata": {},
   "source": [
    "## Hyper-Peram Tuning"
   ]
  },
  {
   "cell_type": "code",
   "execution_count": 26,
   "id": "fd94eba1",
   "metadata": {},
   "outputs": [
    {
     "name": "stdout",
     "output_type": "stream",
     "text": [
      "best_params {'clf__gamma': 'scale', 'clf__kernel': 'sigmoid', 'clf__probability': True, 'clf__shrinking': True, 'clf__tol': 0.01, 'tfidf__use_idf': True, 'vect__min_df': 0, 'vect__ngram_range': (1, 1)}\n",
      "best_score 0.718753447324876\n"
     ]
    }
   ],
   "source": [
    "parameters = {\n",
    "    'vect__ngram_range': [(1, 1),(1, 2),(1, 3)],\n",
    "    'vect__min_df': [0,1],\n",
    "    'tfidf__use_idf': (True, False),\n",
    "    'clf__kernel': ('poly', 'rbf', 'sigmoid'),\n",
    "    'clf__gamma': ('scale', 'auto'),\n",
    "    'clf__shrinking': (True, False),\n",
    "    'clf__probability': (True, False),\n",
    "    'clf__tol': (0.01, 0.001)\n",
    "}\n",
    "\n",
    "gs_clf = GridSearchCV(text_clf, parameters, cv=5, n_jobs=-1)\n",
    "gs_clf = gs_clf.fit(X_train, y_train)\n",
    "SVC_gs_clf_pred = gs_clf.predict(X_valid)\n",
    "print('best_params', gs_clf.best_params_)\n",
    "print('best_score', gs_clf.best_score_)"
   ]
  },
  {
   "cell_type": "markdown",
   "id": "3a33b917",
   "metadata": {},
   "source": [
    "## Adjusting Hyper Perameters"
   ]
  },
  {
   "cell_type": "code",
   "execution_count": 27,
   "id": "1ef00c4d",
   "metadata": {},
   "outputs": [
    {
     "name": "stdout",
     "output_type": "stream",
     "text": [
      "accuracy_score 0.717391304347826\n",
      "f1_score 0.604822774734279\n",
      "             negative(a)  neutral(a)  positive(a)\n",
      "negative(p)            8          21            7\n",
      "neutral(p)             1          34           22\n",
      "positive(p)            0           1           90\n"
     ]
    }
   ],
   "source": [
    "text_clf = Pipeline([\n",
    "    ('vect', CountVectorizer(stop_words= 'english',min_df=0, ngram_range= (1,1))),\n",
    "    ('tfidf', TfidfTransformer(use_idf=True)),\n",
    "    ('clf', SVC(tol= 0.01,probability= True, shrinking=True ,gamma='scale' ,kernel='sigmoid' )),\n",
    "])\n",
    "\n",
    "text_clf.fit(X_train, y_train)\n",
    "SVC_pipeline_pred= text_clf.predict(X_valid)\n",
    "\n",
    "print('accuracy_score', accuracy_score(y_valid, SVC_pipeline_pred))\n",
    "print('f1_score', f1_score(y_valid, SVC_pipeline_pred, average= 'macro'))\n",
    "print(pd.DataFrame(confusion_matrix(y_valid, SVC_pipeline_pred), index=['negative(p)', 'neutral(p)' ,'positive(p)'], columns=['negative(a)', 'neutral(a)' ,'positive(a)']))\n"
   ]
  },
  {
   "cell_type": "markdown",
   "id": "ae2a214e",
   "metadata": {},
   "source": [
    "## Print SVC Results\n"
   ]
  },
  {
   "cell_type": "code",
   "execution_count": 28,
   "id": "b23de431",
   "metadata": {
    "scrolled": true
   },
   "outputs": [
    {
     "name": "stdout",
     "output_type": "stream",
     "text": [
      "Accuracy 0.717391304347826\n",
      "Average F1 score 0.604822774734279\n",
      "Class-wise F1 scores:\n",
      "\tnegative: 0.3555555555555555\n",
      "\tneutral: 0.6017699115044247\n",
      "\tpositive: 0.8571428571428571\n",
      "Confusion_matrix:\n",
      "               negative(a)  neutral(a)  positive(a)\n",
      "negative(p)     0.043478    0.114130     0.038043\n",
      "neutral(p)      0.005435    0.184783     0.119565\n",
      "positive(p)     0.000000    0.005435     0.489130\n"
     ]
    }
   ],
   "source": [
    "print(\"Accuracy\", accuracy_score(y_valid, SVC_pipeline_pred))\n",
    "print(\"Average F1 score\", f1_score(y_valid, SVC_pipeline_pred, average=\"macro\"))\n",
    "print(\"Class-wise F1 scores:\")\n",
    "print(\"\\tnegative:\", f1_score(y_valid, SVC_pipeline_pred, average=None)[0])\n",
    "print(\"\\tneutral:\", f1_score(y_valid, SVC_pipeline_pred, average=None)[1])\n",
    "print(\"\\tpositive:\", f1_score(y_valid, SVC_pipeline_pred, average=None)[2])\n",
    "print(\n",
    "    \"Confusion_matrix:\\n \",\n",
    "    pd.DataFrame(\n",
    "        confusion_matrix(y_valid, SVC_pipeline_pred)\n",
    "        / confusion_matrix(y_valid, SVC_pipeline_pred).astype(float).sum(),\n",
    "        index=['negative(p)', 'neutral(p)' ,'positive(p)'],\n",
    "        columns=['negative(a)', 'neutral(a)' ,'positive(a)'],\n",
    "    ),\n",
    ")"
   ]
  },
  {
   "cell_type": "markdown",
   "id": "14aa19b5",
   "metadata": {},
   "source": [
    "## Conduct model selection\n"
   ]
  },
  {
   "cell_type": "code",
   "execution_count": 29,
   "id": "51f5a5a1",
   "metadata": {},
   "outputs": [],
   "source": [
    "MNB_cv_score = cross_val_score(MNB, X_train_tfidf, y_train, cv=20, scoring=\"accuracy\")\n",
    "SGD_clf_cv_score = cross_val_score(\n",
    "    SGD_clf, X_train_tfidf, y_train, cv=20, scoring=\"accuracy\"\n",
    ")\n",
    "svc_cv_score = cross_val_score(svc, X_train_tfidf, y_train, cv=20, scoring=\"accuracy\")"
   ]
  },
  {
   "cell_type": "markdown",
   "id": "7b41f506",
   "metadata": {},
   "source": [
    "## Plot the results\n"
   ]
  },
  {
   "cell_type": "code",
   "execution_count": 30,
   "id": "99cf254c",
   "metadata": {},
   "outputs": [
    {
     "data": {
      "image/png": "[encoded data removed]",
      "text/plain": [
       "<Figure size 432x288 with 1 Axes>"
      ]
     },
     "metadata": {
      "needs_background": "light"
     },
     "output_type": "display_data"
    }
   ],
   "source": [
    "plt.boxplot([MNB_cv_score, SGD_clf_cv_score, svc_cv_score])\n",
    "plt.title(\"Model Performace Comparison\")\n",
    "plt.xticks([1, 2, 3], [\"MNB\", \"SGD\", \"SVC\"])\n",
    "plt.show()"
   ]
  }
 ],
 "metadata": {
  "kernelspec": {
   "display_name": "Python 3 (ipykernel)",
   "language": "python",
   "name": "python3"
  },
  "language_info": {
   "codemirror_mode": {
    "name": "ipython",
    "version": 3
   },
   "file_extension": ".py",
   "mimetype": "text/x-python",
   "name": "python",
   "nbconvert_exporter": "python",
   "pygments_lexer": "ipython3",
   "version": "3.9.7"
  }
 },
 "nbformat": 4,
 "nbformat_minor": 5
}
